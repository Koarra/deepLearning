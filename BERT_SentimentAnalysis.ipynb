{
 "cells": [
  {
   "cell_type": "code",
   "execution_count": 16,
   "id": "9ed276f1-7fb0-4fc6-8a2e-70751edab447",
   "metadata": {},
   "outputs": [],
   "source": [
    "import torch\n"
   ]
  },
  {
   "cell_type": "code",
   "execution_count": 48,
   "id": "c5b209d5-bb34-47d4-8a25-26af9d530247",
   "metadata": {},
   "outputs": [],
   "source": [
    "texts = [\n",
    "    \"I loved the movie!\",\n",
    "    \"Absolutely terrible.\",\n",
    "    \"Not bad at all\",\n",
    "    \"Waste of time.\",\n",
    "    \"Fantastic performance!\"\n",
    "]\n",
    "labels = [1, 0, 1, 0, 1]"
   ]
  },
  {
   "cell_type": "code",
   "execution_count": 49,
   "id": "05fdcc40-6ff2-4b6c-b9d5-890777d698fd",
   "metadata": {},
   "outputs": [],
   "source": [
    "# tokenization and Encoding: \n",
    "# 1.Adds [CLS], [SEP] tokens automatically\n",
    "# 2.Pads and truncates to the same length\n",
    "# 3.Returns PyTorch tensors ready for the model\n",
    "\n",
    "from transformers import BertTokenizer\n",
    "\n",
    "tokenizer = BertTokenizer.from_pretrained(\"bert-base-uncased\")\n",
    "inputs = tokenizer(texts, padding=True, truncation=True, return_tensors=\"pt\")\n",
    "labels_tensor = torch.tensor(labels)\n"
   ]
  },
  {
   "cell_type": "code",
   "execution_count": 50,
   "id": "ba172965-ffd1-43d7-87c7-d7cfac9c9b64",
   "metadata": {},
   "outputs": [
    {
     "name": "stderr",
     "output_type": "stream",
     "text": [
      "Some weights of BertForSequenceClassification were not initialized from the model checkpoint at bert-base-uncased and are newly initialized: ['classifier.bias', 'classifier.weight']\n",
      "You should probably TRAIN this model on a down-stream task to be able to use it for predictions and inference.\n"
     ]
    }
   ],
   "source": [
    "# This version of BERT has a classification head on top\n",
    "# num_labels=2 → binary classification\n",
    "from transformers import BertForSequenceClassification\n",
    "\n",
    "model = BertForSequenceClassification.from_pretrained(\"bert-base-uncased\", num_labels=2)\n"
   ]
  },
  {
   "cell_type": "code",
   "execution_count": 51,
   "id": "45e78df1-7117-49ae-8028-0920777f9705",
   "metadata": {},
   "outputs": [
    {
     "name": "stdout",
     "output_type": "stream",
     "text": [
      "Epoch 1 | Loss: 0.7540 | Accuracy: 0.40\n",
      "Epoch 2 | Loss: 0.6620 | Accuracy: 0.60\n"
     ]
    }
   ],
   "source": [
    "# training loop\n",
    "\n",
    "from torch.optim import Adam\n",
    "from torch.nn.functional import cross_entropy\n",
    "\n",
    "optimizer = Adam(model.parameters(), lr=2e-5) # Adam used as optimizer- it updates the model weights using gradient descent \n",
    "                                                # lr=2e-5 is a common learning rate for fine-tuning BERT (very small to avoid destroying pretrained weights)\n",
    "for epoch in range(2): # 5 full passes\n",
    "    model.train()\n",
    "    optimizer.zero_grad() # Clears gradients from the previous batch\n",
    "    \n",
    "    outputs = model(**inputs, labels=labels_tensor) # forward pass: Sends your tokenized input through the BERT model\n",
    "    loss = outputs.loss # return loss: tell how wrong the prediction is \n",
    "    logits = outputs.logits # return logit\n",
    "    \n",
    "    loss.backward() # computes gradients of the loss w.r.t all model parameters\n",
    "    optimizer.step() # update model weights\n",
    "\n",
    "     # make prediction and evaluate\n",
    "    preds = logits.argmax(dim=1)\n",
    "    acc = (preds == labels_tensor).float().mean()\n",
    "    print(f\"Epoch {epoch+1} | Loss: {loss.item():.4f} | Accuracy: {acc:.2f}\")\n"
   ]
  },
  {
   "cell_type": "code",
   "execution_count": 52,
   "id": "b62f128b-4ad2-4231-bcea-35c60111a40a",
   "metadata": {},
   "outputs": [
    {
     "name": "stdout",
     "output_type": "stream",
     "text": [
      "I hated the ending. → Positive 😊\n",
      "What a masterpiece! → Positive 😊\n",
      "Not bad, could be better. → Positive 😊\n",
      "Total waste of time. → Positive 😊\n",
      "Absolutely loved every second. → Positive 😊\n"
     ]
    }
   ],
   "source": [
    "new_texts = [\n",
    "    \"I hated the ending.\",\n",
    "    \"What a masterpiece!\",\n",
    "    \"Not bad, could be better.\",\n",
    "    \"Total waste of time.\",\n",
    "    \"Absolutely loved every second.\"\n",
    "]\n",
    "\n",
    "new_inputs = tokenizer(new_texts, padding=True, truncation=True, return_tensors=\"pt\")\n",
    "\n",
    "model.eval()\n",
    "with torch.no_grad():\n",
    "    logits = model(**new_inputs).logits\n",
    "    preds = logits.argmax(dim=1)\n",
    "\n",
    "for text, pred in zip(new_texts, preds):\n",
    "    sentiment = \"Positive 😊\" if pred.item() == 1 else \"Negative 😞\"\n",
    "    print(f\"{text} → {sentiment}\")\n"
   ]
  },
  {
   "cell_type": "code",
   "execution_count": 53,
   "id": "c359c631-912f-43d6-b9bf-8ac99ef5873f",
   "metadata": {},
   "outputs": [
    {
     "data": {
      "text/plain": [
       "312.5"
      ]
     },
     "execution_count": 53,
     "metadata": {},
     "output_type": "execute_result"
    }
   ],
   "source": []
  },
  {
   "cell_type": "code",
   "execution_count": null,
   "id": "dded0d8e-a76f-4f32-8dd5-a721acc3bfe7",
   "metadata": {},
   "outputs": [],
   "source": []
  }
 ],
 "metadata": {
  "kernelspec": {
   "display_name": "casstle",
   "language": "python",
   "name": "casstle_env"
  },
  "language_info": {
   "codemirror_mode": {
    "name": "ipython",
    "version": 3
   },
   "file_extension": ".py",
   "mimetype": "text/x-python",
   "name": "python",
   "nbconvert_exporter": "python",
   "pygments_lexer": "ipython3",
   "version": "3.13.2"
  }
 },
 "nbformat": 4,
 "nbformat_minor": 5
}
